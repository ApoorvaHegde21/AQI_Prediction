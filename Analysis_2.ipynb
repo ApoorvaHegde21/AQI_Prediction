{
  "nbformat": 4,
  "nbformat_minor": 0,
  "metadata": {
    "colab": {
      "provenance": [],
      "authorship_tag": "ABX9TyMtSwlbIuppAih/OBIlS7Oi",
      "include_colab_link": true
    },
    "kernelspec": {
      "name": "python3",
      "display_name": "Python 3"
    },
    "language_info": {
      "name": "python"
    }
  },
  "cells": [
    {
      "cell_type": "markdown",
      "metadata": {
        "id": "view-in-github",
        "colab_type": "text"
      },
      "source": [
        "<a href=\"https://colab.research.google.com/github/ApoorvaHegde21/AQI_Prediction/blob/main/Analysis_2.ipynb\" target=\"_parent\"><img src=\"https://colab.research.google.com/assets/colab-badge.svg\" alt=\"Open In Colab\"/></a>"
      ]
    },
    {
      "cell_type": "markdown",
      "source": [
        "This version of analysis and prediction uses LSTM to predict AQI indexes.\n"
      ],
      "metadata": {
        "id": "Qr3Xxd0ZcXQ4"
      }
    },
    {
      "cell_type": "code",
      "source": [
        "#Necessary imports\n",
        "import pandas as pd\n",
        "import numpy as np\n",
        "from tensorflow.keras.optimizers import Adam\n",
        "from sklearn.model_selection import train_test_split\n",
        "from sklearn.metrics import mean_squared_error,mean_absolute_error\n",
        "from tensorflow.keras.models import Sequential\n",
        "from tensorflow.keras.layers import LSTM, Dense, Dropout"
      ],
      "metadata": {
        "id": "f-bssDOMEJ1b"
      },
      "execution_count": 53,
      "outputs": []
    },
    {
      "cell_type": "code",
      "source": [
        "#Links Google colab to Google Drive\n",
        "from google.colab import drive\n",
        "drive.mount('/content/drive')\n",
        "\n",
        "#Read Data\n",
        "data = pd.read_csv('/content/drive/MyDrive/final.csv')\n",
        "\n",
        "#Extracts individual timestamp components\n",
        "data['day'] = pd.to_datetime(data['Timestamp'],dayfirst=True).dt.day\n",
        "data['month'] = pd.to_datetime(data['Timestamp'],dayfirst=True).dt.month\n",
        "data['year'] = pd.to_datetime(data['Timestamp'],dayfirst=True).dt.year\n",
        "data['hour'] = pd.to_datetime(data['Timestamp'],dayfirst=True).dt.hour\n"
      ],
      "metadata": {
        "colab": {
          "base_uri": "https://localhost:8080/"
        },
        "id": "8CFGM228sG_h",
        "outputId": "6fc87cf7-de70-49ae-e3e1-246440e2bf38"
      },
      "execution_count": 57,
      "outputs": [
        {
          "output_type": "stream",
          "name": "stdout",
          "text": [
            "Drive already mounted at /content/drive; to attempt to forcibly remount, call drive.mount(\"/content/drive\", force_remount=True).\n"
          ]
        }
      ]
    },
    {
      "cell_type": "code",
      "source": [
        "#Drop columns that have only zeroes and non numerical values.\n",
        "data.drop(['Timestamp','Toluene (µg/m³)','RF (mm)','PM2.5 (µg/m³)','NH3 (µg/m³)'],axis=1,inplace=True)\n",
        "\n",
        "#Determine the features and target variable.\n",
        "X = data.copy()\n",
        "y = X.pop('AQI')\n",
        "\n",
        "train_X,val_X,train_y,val_y = train_test_split(X,y,test_size=0.2,random_state=1)\n",
        "model = Sequential()\n",
        "train_X = np.reshape(train_X.values, (train_X.shape[0], train_X.shape[1], 1))\n",
        "val_X = np.reshape(val_X.values, (val_X.shape[0], val_X.shape[1], 1))\n",
        "\n",
        "# LSTM layer of 25 units\n",
        "model.add(LSTM(25, return_sequences=True, input_shape=(train_X.shape[1], 1)))\n",
        "model.add(Dropout(0.3))\n",
        "\n",
        "# Adds one more LSTM layer of 25 units\n",
        "model.add(LSTM(25, return_sequences=False))\n",
        "model.add(Dropout(0.3))\n",
        "\n",
        "# Output layer\n",
        "model.add(Dense(1,activation='linear'))\n",
        "\n",
        "# Compiles the model\n",
        "model.compile(optimizer=Adam(learning_rate = 0.2), loss='mean_squared_error')\n",
        "\n",
        "# fits the model on training data\n",
        "model.fit(train_X, train_y, epochs=10, batch_size=30, validation_data=(val_X, val_y))\n",
        "predictions = model.predict(val_X)\n",
        "#Error calculation\n",
        "error = mean_absolute_error(val_y,predictions)"
      ],
      "metadata": {
        "colab": {
          "base_uri": "https://localhost:8080/"
        },
        "id": "R6a9ZkBmEgV8",
        "outputId": "a19d9d2c-ace9-4a65-8807-99e91fcfe4a2"
      },
      "execution_count": 61,
      "outputs": [
        {
          "output_type": "stream",
          "name": "stdout",
          "text": [
            "Epoch 1/10\n"
          ]
        },
        {
          "output_type": "stream",
          "name": "stderr",
          "text": [
            "/usr/local/lib/python3.10/dist-packages/keras/src/layers/rnn/rnn.py:204: UserWarning: Do not pass an `input_shape`/`input_dim` argument to a layer. When using Sequential models, prefer using an `Input(shape)` object as the first layer in the model instead.\n",
            "  super().__init__(**kwargs)\n"
          ]
        },
        {
          "output_type": "stream",
          "name": "stdout",
          "text": [
            "\u001b[1m30/30\u001b[0m \u001b[32m━━━━━━━━━━━━━━━━━━━━\u001b[0m\u001b[37m\u001b[0m \u001b[1m5s\u001b[0m 46ms/step - loss: 778.8201 - val_loss: 226.7073\n",
            "Epoch 2/10\n",
            "\u001b[1m30/30\u001b[0m \u001b[32m━━━━━━━━━━━━━━━━━━━━\u001b[0m\u001b[37m\u001b[0m \u001b[1m2s\u001b[0m 41ms/step - loss: 231.9254 - val_loss: 226.4935\n",
            "Epoch 3/10\n",
            "\u001b[1m30/30\u001b[0m \u001b[32m━━━━━━━━━━━━━━━━━━━━\u001b[0m\u001b[37m\u001b[0m \u001b[1m1s\u001b[0m 41ms/step - loss: 232.4012 - val_loss: 226.0602\n",
            "Epoch 4/10\n",
            "\u001b[1m30/30\u001b[0m \u001b[32m━━━━━━━━━━━━━━━━━━━━\u001b[0m\u001b[37m\u001b[0m \u001b[1m1s\u001b[0m 26ms/step - loss: 231.8741 - val_loss: 231.1542\n",
            "Epoch 5/10\n",
            "\u001b[1m30/30\u001b[0m \u001b[32m━━━━━━━━━━━━━━━━━━━━\u001b[0m\u001b[37m\u001b[0m \u001b[1m1s\u001b[0m 28ms/step - loss: 235.4767 - val_loss: 223.5954\n",
            "Epoch 6/10\n",
            "\u001b[1m30/30\u001b[0m \u001b[32m━━━━━━━━━━━━━━━━━━━━\u001b[0m\u001b[37m\u001b[0m \u001b[1m1s\u001b[0m 25ms/step - loss: 237.5189 - val_loss: 223.0135\n",
            "Epoch 7/10\n",
            "\u001b[1m30/30\u001b[0m \u001b[32m━━━━━━━━━━━━━━━━━━━━\u001b[0m\u001b[37m\u001b[0m \u001b[1m1s\u001b[0m 26ms/step - loss: 226.1953 - val_loss: 226.8701\n",
            "Epoch 8/10\n",
            "\u001b[1m30/30\u001b[0m \u001b[32m━━━━━━━━━━━━━━━━━━━━\u001b[0m\u001b[37m\u001b[0m \u001b[1m1s\u001b[0m 26ms/step - loss: 223.8318 - val_loss: 226.0765\n",
            "Epoch 9/10\n",
            "\u001b[1m30/30\u001b[0m \u001b[32m━━━━━━━━━━━━━━━━━━━━\u001b[0m\u001b[37m\u001b[0m \u001b[1m1s\u001b[0m 24ms/step - loss: 240.1031 - val_loss: 224.9703\n",
            "Epoch 10/10\n",
            "\u001b[1m30/30\u001b[0m \u001b[32m━━━━━━━━━━━━━━━━━━━━\u001b[0m\u001b[37m\u001b[0m \u001b[1m1s\u001b[0m 25ms/step - loss: 215.0565 - val_loss: 223.3376\n",
            "\u001b[1m7/7\u001b[0m \u001b[32m━━━━━━━━━━━━━━━━━━━━\u001b[0m\u001b[37m\u001b[0m \u001b[1m1s\u001b[0m 54ms/step\n"
          ]
        }
      ]
    },
    {
      "cell_type": "code",
      "source": [
        "print(error)"
      ],
      "metadata": {
        "colab": {
          "base_uri": "https://localhost:8080/"
        },
        "id": "nxL29UWWfJde",
        "outputId": "46a6bcb3-4fd7-486f-8824-7e560c906a50"
      },
      "execution_count": 59,
      "outputs": [
        {
          "output_type": "stream",
          "name": "stdout",
          "text": [
            "11.726063453987853\n"
          ]
        }
      ]
    }
  ]
}